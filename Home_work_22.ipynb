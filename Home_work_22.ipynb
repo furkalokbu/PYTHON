{
 "cells": [
  {
   "cell_type": "code",
   "execution_count": 1,
   "id": "bcc2c03b",
   "metadata": {},
   "outputs": [
    {
     "name": "stdout",
     "output_type": "stream",
     "text": [
      "how many cups of coffee do you need?10\n"
     ]
    }
   ],
   "source": [
    "cups = input(\"how many cups of coffee do you need?\")"
   ]
  },
  {
   "cell_type": "code",
   "execution_count": 2,
   "id": "3adddb91",
   "metadata": {},
   "outputs": [
    {
     "name": "stdout",
     "output_type": "stream",
     "text": [
      "You have 1 bonus cap(s)\n"
     ]
    }
   ],
   "source": [
    "bonus = int(cups)//6 \n",
    "print(f\"You have {bonus} bonus cap(s)\")"
   ]
  },
  {
   "cell_type": "code",
   "execution_count": 3,
   "id": "37c4b54c",
   "metadata": {},
   "outputs": [
    {
     "name": "stdout",
     "output_type": "stream",
     "text": [
      "Введите координату х первой точки2\n",
      "Введите координату y первой точки4\n",
      "Введите координату х второй точки6\n",
      "Введите координату y второй точки10\n"
     ]
    }
   ],
   "source": [
    "x1 = float(input(\"Введите координату х первой точки\"))\n",
    "y1 = float(input(\"Введите координату y первой точки\"))\n",
    "x2 = float(input(\"Введите координату х второй точки\"))\n",
    "y2 = float(input(\"Введите координату y второй точки\"))"
   ]
  },
  {
   "cell_type": "code",
   "execution_count": 9,
   "id": "26e9b55a",
   "metadata": {},
   "outputs": [
    {
     "name": "stdout",
     "output_type": "stream",
     "text": [
      "Delta is 7.211\n"
     ]
    }
   ],
   "source": [
    "from math import sqrt\n",
    "delta = sqrt((x2-x1)**2 + (y2-y1)**2)\n",
    "print(f\"Delta is {delta:5.3f}\")"
   ]
  },
  {
   "cell_type": "code",
   "execution_count": 11,
   "id": "c9d7e4d8",
   "metadata": {},
   "outputs": [
    {
     "name": "stdout",
     "output_type": "stream",
     "text": [
      "Сколько куриц на ферме:10\n",
      "Сколько свиней на ферме:4\n",
      "Сколько коров на ферме:2\n"
     ]
    }
   ],
   "source": [
    "hen = int(input(\"Сколько куриц на ферме:\"))\n",
    "pigs = int(input(\"Сколько свиней на ферме:\"))\n",
    "cows = int(input(\"Сколько коров на ферме:\"))\n"
   ]
  },
  {
   "cell_type": "code",
   "execution_count": 13,
   "id": "038e4cba",
   "metadata": {},
   "outputs": [
    {
     "name": "stdout",
     "output_type": "stream",
     "text": [
      "На ферме 44 ног\n"
     ]
    }
   ],
   "source": [
    "print(f\"На ферме {(hen*2 + pigs*4 + cows*4)} ноги\")"
   ]
  }
 ],
 "metadata": {
  "kernelspec": {
   "display_name": "Python 3 (ipykernel)",
   "language": "python",
   "name": "python3"
  },
  "language_info": {
   "codemirror_mode": {
    "name": "ipython",
    "version": 3
   },
   "file_extension": ".py",
   "mimetype": "text/x-python",
   "name": "python",
   "nbconvert_exporter": "python",
   "pygments_lexer": "ipython3",
   "version": "3.7.3"
  }
 },
 "nbformat": 4,
 "nbformat_minor": 5
}
