{
 "cells": [
  {
   "cell_type": "code",
   "execution_count": 2,
   "id": "1d1de9f6",
   "metadata": {},
   "outputs": [
    {
     "name": "stdout",
     "output_type": "stream",
     "text": [
      "x equals 0\n",
      "x equals 1\n",
      "x equals 2\n",
      "Condition is not met\n"
     ]
    }
   ],
   "source": [
    "x = 0\n",
    "\n",
    "while x < 3:\n",
    "    print(f'x equals {x}')\n",
    "    x += 1\n",
    "else:\n",
    "    print('Condition is not met')"
   ]
  },
  {
   "cell_type": "code",
   "execution_count": 4,
   "id": "92705271",
   "metadata": {},
   "outputs": [
    {
     "data": {
      "text/plain": [
       "16"
      ]
     },
     "execution_count": 4,
     "metadata": {},
     "output_type": "execute_result"
    }
   ],
   "source": [
    "vals = [1,2,3,4,5,6,7,8,9]\n",
    "\n",
    "sum = 0\n",
    "for v in vals:\n",
    "    if v % 2 == 0:\n",
    "        continue\n",
    "    else:\n",
    "        sum+=v\n",
    "    if sum > 10:\n",
    "        break\n",
    "sum"
   ]
  }
 ],
 "metadata": {
  "kernelspec": {
   "display_name": "Python 3 (ipykernel)",
   "language": "python",
   "name": "python3"
  },
  "language_info": {
   "codemirror_mode": {
    "name": "ipython",
    "version": 3
   },
   "file_extension": ".py",
   "mimetype": "text/x-python",
   "name": "python",
   "nbconvert_exporter": "python",
   "pygments_lexer": "ipython3",
   "version": "3.7.3"
  }
 },
 "nbformat": 4,
 "nbformat_minor": 5
}
