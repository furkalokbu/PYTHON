{
 "cells": [
  {
   "cell_type": "code",
   "execution_count": 12,
   "id": "f5e4e3d9",
   "metadata": {},
   "outputs": [
    {
     "data": {
      "text/plain": [
       "1"
      ]
     },
     "execution_count": 12,
     "metadata": {},
     "output_type": "execute_result"
    }
   ],
   "source": [
    "strings = ('str1', 'str2', 'strs')\n",
    "strings.count('str1')\n",
    "strings.index('str2')"
   ]
  },
  {
   "cell_type": "code",
   "execution_count": 5,
   "id": "7348f20e",
   "metadata": {},
   "outputs": [
    {
     "data": {
      "text/plain": [
       "3"
      ]
     },
     "execution_count": 5,
     "metadata": {},
     "output_type": "execute_result"
    }
   ],
   "source": [
    "len(strings)"
   ]
  },
  {
   "cell_type": "code",
   "execution_count": 6,
   "id": "29975cdb",
   "metadata": {},
   "outputs": [],
   "source": [
    "players = [('Carlsen', 1990, 2842), ('Caruana', 1992, 2822), ('Mamedyarov', 1985, 2801)]"
   ]
  },
  {
   "cell_type": "code",
   "execution_count": 16,
   "id": "84a1e6a8",
   "metadata": {},
   "outputs": [],
   "source": [
    "from collections import namedtuple"
   ]
  },
  {
   "cell_type": "code",
   "execution_count": 27,
   "id": "2297b80b",
   "metadata": {},
   "outputs": [
    {
     "name": "stdout",
     "output_type": "stream",
     "text": [
      "<class '__main__.Player'>\n"
     ]
    }
   ],
   "source": [
    "Player = namedtuple('Player', 'name age rating')\n",
    "print(Player)\n"
   ]
  },
  {
   "cell_type": "code",
   "execution_count": 28,
   "id": "26608dec",
   "metadata": {},
   "outputs": [],
   "source": [
    "players = [Player('Carlsen', 1990, 2842), Player('Caruana', 1992, 2822), Player('Mamedyarov', 1985, 2801)] "
   ]
  },
  {
   "cell_type": "code",
   "execution_count": 31,
   "id": "16adad7e",
   "metadata": {},
   "outputs": [
    {
     "data": {
      "text/plain": [
       "'Carlsen'"
      ]
     },
     "execution_count": 31,
     "metadata": {},
     "output_type": "execute_result"
    }
   ],
   "source": [
    "players[0].name"
   ]
  },
  {
   "cell_type": "code",
   "execution_count": 33,
   "id": "ed45c9e7",
   "metadata": {},
   "outputs": [],
   "source": [
    "p1 = Player('Carlsen', 1990, 2842)"
   ]
  },
  {
   "cell_type": "code",
   "execution_count": 35,
   "id": "9a390474",
   "metadata": {},
   "outputs": [
    {
     "data": {
      "text/plain": [
       "'Carlsen'"
      ]
     },
     "execution_count": 35,
     "metadata": {},
     "output_type": "execute_result"
    }
   ],
   "source": [
    "p1.name"
   ]
  }
 ],
 "metadata": {
  "kernelspec": {
   "display_name": "Python 3 (ipykernel)",
   "language": "python",
   "name": "python3"
  },
  "language_info": {
   "codemirror_mode": {
    "name": "ipython",
    "version": 3
   },
   "file_extension": ".py",
   "mimetype": "text/x-python",
   "name": "python",
   "nbconvert_exporter": "python",
   "pygments_lexer": "ipython3",
   "version": "3.7.3"
  }
 },
 "nbformat": 4,
 "nbformat_minor": 5
}
