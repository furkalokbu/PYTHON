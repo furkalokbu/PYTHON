{
 "cells": [
  {
   "cell_type": "code",
   "execution_count": 3,
   "id": "e1ef2b96",
   "metadata": {},
   "outputs": [],
   "source": [
    "players = {\n",
    "            'Carlsen': 2842,\n",
    "            'Caruana': 2822,\n",
    "            'Mamedyarov': 2801,\n",
    "            'Ding': 2797,\n",
    "            'Giri': 2780\n",
    "          }"
   ]
  },
  {
   "cell_type": "code",
   "execution_count": 4,
   "id": "45c03e37",
   "metadata": {},
   "outputs": [
    {
     "data": {
      "text/plain": [
       "{'Carlsen': 2842,\n",
       " 'Caruana': 2822,\n",
       " 'Mamedyarov': 2801,\n",
       " 'Ding': 2797,\n",
       " 'Giri': 2780}"
      ]
     },
     "execution_count": 4,
     "metadata": {},
     "output_type": "execute_result"
    }
   ],
   "source": [
    "players"
   ]
  },
  {
   "cell_type": "code",
   "execution_count": 5,
   "id": "d12fdf51",
   "metadata": {},
   "outputs": [],
   "source": [
    "players = dict(Carlsen=2842, Caruana=2822, Mamedyarov=2801, Ding=279, Giri=2780)"
   ]
  },
  {
   "cell_type": "code",
   "execution_count": 6,
   "id": "048d7a1d",
   "metadata": {},
   "outputs": [
    {
     "data": {
      "text/plain": [
       "{'Carlsen': 2842,\n",
       " 'Caruana': 2822,\n",
       " 'Mamedyarov': 2801,\n",
       " 'Ding': 279,\n",
       " 'Giri': 2780}"
      ]
     },
     "execution_count": 6,
     "metadata": {},
     "output_type": "execute_result"
    }
   ],
   "source": [
    "players"
   ]
  },
  {
   "cell_type": "code",
   "execution_count": 7,
   "id": "cad68ec5",
   "metadata": {},
   "outputs": [],
   "source": [
    "top1 = players['Carlsen']"
   ]
  },
  {
   "cell_type": "code",
   "execution_count": 8,
   "id": "4e0a87a0",
   "metadata": {},
   "outputs": [
    {
     "data": {
      "text/plain": [
       "2842"
      ]
     },
     "execution_count": 8,
     "metadata": {},
     "output_type": "execute_result"
    }
   ],
   "source": [
    "top1"
   ]
  },
  {
   "cell_type": "code",
   "execution_count": 9,
   "id": "5b04720a",
   "metadata": {},
   "outputs": [
    {
     "data": {
      "text/plain": [
       "2842"
      ]
     },
     "execution_count": 9,
     "metadata": {},
     "output_type": "execute_result"
    }
   ],
   "source": [
    "players.get('Carlsen')"
   ]
  },
  {
   "cell_type": "code",
   "execution_count": 10,
   "id": "442341e1",
   "metadata": {},
   "outputs": [
    {
     "data": {
      "text/plain": [
       "dict_keys(['Carlsen', 'Caruana', 'Mamedyarov', 'Ding', 'Giri'])"
      ]
     },
     "execution_count": 10,
     "metadata": {},
     "output_type": "execute_result"
    }
   ],
   "source": [
    "players.keys()\n"
   ]
  },
  {
   "cell_type": "code",
   "execution_count": 11,
   "id": "7b2931dc",
   "metadata": {},
   "outputs": [
    {
     "data": {
      "text/plain": [
       "['Carlsen', 'Caruana', 'Ding', 'Giri', 'Mamedyarov']"
      ]
     },
     "execution_count": 11,
     "metadata": {},
     "output_type": "execute_result"
    }
   ],
   "source": [
    "sorted(players.keys())"
   ]
  },
  {
   "cell_type": "code",
   "execution_count": 12,
   "id": "3471c861",
   "metadata": {},
   "outputs": [
    {
     "name": "stdout",
     "output_type": "stream",
     "text": [
      "True\n"
     ]
    }
   ],
   "source": [
    "print('Carlsen' in players)"
   ]
  },
  {
   "cell_type": "code",
   "execution_count": 13,
   "id": "06adf7f9",
   "metadata": {},
   "outputs": [
    {
     "name": "stdout",
     "output_type": "stream",
     "text": [
      "Carlsen 2842\n",
      "Caruana 2822\n",
      "Mamedyarov 2801\n",
      "Ding 279\n",
      "Giri 2780\n"
     ]
    }
   ],
   "source": [
    "for k,v in players.items():\n",
    "    print(k,v)"
   ]
  },
  {
   "cell_type": "code",
   "execution_count": 14,
   "id": "66ca6800",
   "metadata": {},
   "outputs": [
    {
     "data": {
      "text/plain": [
       "2780"
      ]
     },
     "execution_count": 14,
     "metadata": {},
     "output_type": "execute_result"
    }
   ],
   "source": [
    "players.pop('Giri')"
   ]
  },
  {
   "cell_type": "code",
   "execution_count": 15,
   "id": "b05b82a1",
   "metadata": {},
   "outputs": [
    {
     "data": {
      "text/plain": [
       "{'Carlsen': 2842, 'Caruana': 2822, 'Mamedyarov': 2801, 'Ding': 279}"
      ]
     },
     "execution_count": 15,
     "metadata": {},
     "output_type": "execute_result"
    }
   ],
   "source": [
    "players\n"
   ]
  },
  {
   "cell_type": "code",
   "execution_count": 16,
   "id": "b0383f38",
   "metadata": {},
   "outputs": [],
   "source": [
    "players.setdefault('Karjakin')"
   ]
  },
  {
   "cell_type": "code",
   "execution_count": 18,
   "id": "a9a7fca1",
   "metadata": {},
   "outputs": [
    {
     "data": {
      "text/plain": [
       "{'Carlsen': 2842,\n",
       " 'Caruana': 2822,\n",
       " 'Mamedyarov': 2801,\n",
       " 'Ding': 279,\n",
       " 'Karjakin': None}"
      ]
     },
     "execution_count": 18,
     "metadata": {},
     "output_type": "execute_result"
    }
   ],
   "source": [
    "players"
   ]
  }
 ],
 "metadata": {
  "kernelspec": {
   "display_name": "Python 3 (ipykernel)",
   "language": "python",
   "name": "python3"
  },
  "language_info": {
   "codemirror_mode": {
    "name": "ipython",
    "version": 3
   },
   "file_extension": ".py",
   "mimetype": "text/x-python",
   "name": "python",
   "nbconvert_exporter": "python",
   "pygments_lexer": "ipython3",
   "version": "3.7.3"
  }
 },
 "nbformat": 4,
 "nbformat_minor": 5
}
