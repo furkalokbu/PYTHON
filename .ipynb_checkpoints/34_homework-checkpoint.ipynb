{
 "cells": [
  {
   "cell_type": "code",
   "execution_count": 1,
   "id": "7dfcc12c",
   "metadata": {},
   "outputs": [
    {
     "name": "stdout",
     "output_type": "stream",
     "text": [
      "Enter the number of stars: 4\n",
      "*\n",
      "**\n",
      "***\n",
      "****\n"
     ]
    }
   ],
   "source": [
    "stars = input('Enter the number of stars: ')\n",
    "for star in range(1, int(stars)+1):\n",
    "    print('*' * star)"
   ]
  },
  {
   "cell_type": "code",
   "execution_count": 2,
   "id": "48a4ffdf",
   "metadata": {},
   "outputs": [
    {
     "name": "stdout",
     "output_type": "stream",
     "text": [
      "Enter number: 4\n",
      "0  is EVEN\n",
      "1  is ODD\n",
      "2  is EVEN\n",
      "3  is ODD\n",
      "4  is EVEN\n"
     ]
    }
   ],
   "source": [
    "numbers = input('Enter number: ')\n",
    "for n in range(int(numbers)+1):\n",
    "    if n%2 == 0:\n",
    "        print(n, ' is EVEN')\n",
    "    else: \n",
    "        print(n, ' is ODD')"
   ]
  },
  {
   "cell_type": "code",
   "execution_count": 3,
   "id": "719c6949",
   "metadata": {},
   "outputs": [
    {
     "name": "stdout",
     "output_type": "stream",
     "text": [
      "10\n"
     ]
    },
    {
     "data": {
      "text/plain": [
       "33"
      ]
     },
     "execution_count": 3,
     "metadata": {},
     "output_type": "execute_result"
    }
   ],
   "source": [
    "limit = int(input())\n",
    "total_sum = 0\n",
    "for arg in range(limit+1):\n",
    "    if arg%3==0 or arg%5==0:\n",
    "        total_sum += arg\n",
    "total_sum"
   ]
  },
  {
   "cell_type": "code",
   "execution_count": 4,
   "id": "aede0f51",
   "metadata": {},
   "outputs": [
    {
     "name": "stdout",
     "output_type": "stream",
     "text": [
      "10\n"
     ]
    },
    {
     "data": {
      "text/plain": [
       "33"
      ]
     },
     "execution_count": 4,
     "metadata": {},
     "output_type": "execute_result"
    }
   ],
   "source": [
    "limit = int(input())\n",
    "total_sum = sum([arg for arg in range(limit+1) if arg%3==0 or arg%5==0])\n",
    "total_sum"
   ]
  },
  {
   "cell_type": "code",
   "execution_count": 16,
   "id": "0fc19572",
   "metadata": {},
   "outputs": [
    {
     "name": "stdout",
     "output_type": "stream",
     "text": [
      "[1, 3, 5, 12, 14]\n"
     ]
    }
   ],
   "source": [
    "first_list = [1,2,3,4,5,6]\n",
    "second_list = [11,12,13,14,15]\n",
    "joined_list = []\n",
    "odds = [x for x in first_list if x%2!=0]\n",
    "evens = [y for y in second_list if y%2==0]\n",
    "joined_list = odds + evens\n",
    "print(joined_list)"
   ]
  },
  {
   "cell_type": "code",
   "execution_count": 25,
   "id": "fe946c04",
   "metadata": {},
   "outputs": [
    {
     "name": "stdout",
     "output_type": "stream",
     "text": [
      "{2: 1, 3: 1, 4: 1, 5: 1, 6: 1, 7: 0, 8: 0, 9: 0, 10: -1, 'J': -1, 'Q': -1, 'K': -1, 'A': -1}\n",
      "2\n",
      "2\n"
     ]
    }
   ],
   "source": [
    "weight_1 = [2,3,4,5,6]\n",
    "weight_0 = [7,8,9]\n",
    "weight_minus_1 = [10, 'J', 'Q', 'K', 'A']\n",
    "\n",
    "weight = {}\n",
    "for val in weight_1+weight_0+weight_minus_1:\n",
    "    if val in weight_1:\n",
    "        weight[val] = 1\n",
    "    elif val in weight_0:\n",
    "        weight[val] = 0\n",
    "    else:\n",
    "        weight[val] = -1\n",
    "print(weight)\n",
    "current_hand = [2, 3, 4, 10, 'Q', 5]\n",
    "cards_sum = 0\n",
    "for val in current_hand:\n",
    "    cards_sum += weight[val]\n",
    "print(cards_sum)\n",
    "card_sum_2 = sum([weight[val] for val in current_hand])\n",
    "print(card_sum_2)"
   ]
  },
  {
   "cell_type": "code",
   "execution_count": null,
   "id": "3eb88546",
   "metadata": {},
   "outputs": [],
   "source": []
  }
 ],
 "metadata": {
  "kernelspec": {
   "display_name": "Python 3 (ipykernel)",
   "language": "python",
   "name": "python3"
  },
  "language_info": {
   "codemirror_mode": {
    "name": "ipython",
    "version": 3
   },
   "file_extension": ".py",
   "mimetype": "text/x-python",
   "name": "python",
   "nbconvert_exporter": "python",
   "pygments_lexer": "ipython3",
   "version": "3.7.3"
  }
 },
 "nbformat": 4,
 "nbformat_minor": 5
}
