{
 "cells": [
  {
   "cell_type": "code",
   "execution_count": 1,
   "id": "e6bb4563",
   "metadata": {},
   "outputs": [
    {
     "data": {
      "text/plain": [
       "'/home/mechanic/dev/PYTHON'"
      ]
     },
     "execution_count": 1,
     "metadata": {},
     "output_type": "execute_result"
    }
   ],
   "source": [
    "pwd\n"
   ]
  },
  {
   "cell_type": "code",
   "execution_count": 2,
   "id": "5c7e08b9",
   "metadata": {},
   "outputs": [
    {
     "name": "stdout",
     "output_type": "stream",
     "text": [
      "Overwriting sample.txt\n"
     ]
    }
   ],
   "source": [
    "%%writefile sample.txt\n",
    "Name|Phone\n",
    "John;1234\n",
    "Bob;5678\n",
    "Alice;9432"
   ]
  },
  {
   "cell_type": "code",
   "execution_count": 3,
   "id": "0ea95cd6",
   "metadata": {},
   "outputs": [],
   "source": [
    "file = open(\"sample.txt\")"
   ]
  },
  {
   "cell_type": "code",
   "execution_count": 4,
   "id": "7f657134",
   "metadata": {},
   "outputs": [
    {
     "data": {
      "text/plain": [
       "<_io.TextIOWrapper name='sample.txt' mode='r' encoding='UTF-8'>"
      ]
     },
     "execution_count": 4,
     "metadata": {},
     "output_type": "execute_result"
    }
   ],
   "source": [
    "file\n"
   ]
  },
  {
   "cell_type": "code",
   "execution_count": 5,
   "id": "31e99877",
   "metadata": {},
   "outputs": [],
   "source": [
    "data = file.read()\n"
   ]
  },
  {
   "cell_type": "code",
   "execution_count": 6,
   "id": "048d4506",
   "metadata": {},
   "outputs": [
    {
     "data": {
      "text/plain": [
       "'Name|Phone\\nJohn;1234\\nBob;5678\\nAlice;9432\\n'"
      ]
     },
     "execution_count": 6,
     "metadata": {},
     "output_type": "execute_result"
    }
   ],
   "source": [
    "data"
   ]
  },
  {
   "cell_type": "code",
   "execution_count": 7,
   "id": "ba7f5b6c",
   "metadata": {},
   "outputs": [
    {
     "name": "stdout",
     "output_type": "stream",
     "text": [
      "Name|Phone\n",
      "John;1234\n",
      "Bob;5678\n",
      "Alice;9432\n",
      "\n"
     ]
    }
   ],
   "source": [
    "print(data)"
   ]
  },
  {
   "cell_type": "code",
   "execution_count": 8,
   "id": "f013b708",
   "metadata": {},
   "outputs": [
    {
     "name": "stdout",
     "output_type": "stream",
     "text": [
      "\n"
     ]
    }
   ],
   "source": [
    "print(file.read())\n"
   ]
  },
  {
   "cell_type": "code",
   "execution_count": 9,
   "id": "4b994bf9",
   "metadata": {},
   "outputs": [
    {
     "data": {
      "text/plain": [
       "0"
      ]
     },
     "execution_count": 9,
     "metadata": {},
     "output_type": "execute_result"
    }
   ],
   "source": [
    "file.seek(0)\n"
   ]
  },
  {
   "cell_type": "code",
   "execution_count": 10,
   "id": "1bcfc2a8",
   "metadata": {},
   "outputs": [],
   "source": [
    "lines = file.readlines()"
   ]
  },
  {
   "cell_type": "code",
   "execution_count": 11,
   "id": "41d235fd",
   "metadata": {},
   "outputs": [
    {
     "data": {
      "text/plain": [
       "['Name|Phone\\n', 'John;1234\\n', 'Bob;5678\\n', 'Alice;9432\\n']"
      ]
     },
     "execution_count": 11,
     "metadata": {},
     "output_type": "execute_result"
    }
   ],
   "source": [
    "lines\n"
   ]
  },
  {
   "cell_type": "code",
   "execution_count": 12,
   "id": "cedfe664",
   "metadata": {},
   "outputs": [
    {
     "data": {
      "text/plain": [
       "4"
      ]
     },
     "execution_count": 12,
     "metadata": {},
     "output_type": "execute_result"
    }
   ],
   "source": [
    "len(lines)"
   ]
  },
  {
   "cell_type": "code",
   "execution_count": 13,
   "id": "a2ae4f31",
   "metadata": {},
   "outputs": [],
   "source": [
    "file.close()\n"
   ]
  },
  {
   "cell_type": "code",
   "execution_count": 14,
   "id": "1d2329cc",
   "metadata": {},
   "outputs": [
    {
     "data": {
      "text/plain": [
       "['Name|Phone\\n', 'John;1234\\n', 'Bob;5678\\n', 'Alice;9432\\n']"
      ]
     },
     "execution_count": 14,
     "metadata": {},
     "output_type": "execute_result"
    }
   ],
   "source": [
    "lines"
   ]
  },
  {
   "cell_type": "code",
   "execution_count": 15,
   "id": "cd34ef06",
   "metadata": {},
   "outputs": [
    {
     "data": {
      "text/plain": [
       "<_io.TextIOWrapper name='sample.txt' mode='r' encoding='UTF-8'>"
      ]
     },
     "execution_count": 15,
     "metadata": {},
     "output_type": "execute_result"
    }
   ],
   "source": [
    "file"
   ]
  },
  {
   "cell_type": "code",
   "execution_count": 16,
   "id": "dcae6d6c",
   "metadata": {},
   "outputs": [
    {
     "name": "stdout",
     "output_type": "stream",
     "text": [
      "True\n"
     ]
    }
   ],
   "source": [
    "print(file.closed)"
   ]
  },
  {
   "cell_type": "code",
   "execution_count": 17,
   "id": "1e5f365e",
   "metadata": {},
   "outputs": [],
   "source": [
    "with open('sample.txt') as sample_file:\n",
    "    sample_data = sample_file.read()\n"
   ]
  },
  {
   "cell_type": "code",
   "execution_count": 18,
   "id": "3d38f571",
   "metadata": {},
   "outputs": [
    {
     "name": "stdout",
     "output_type": "stream",
     "text": [
      "Name|Phone\n",
      "John;1234\n",
      "Bob;5678\n",
      "Alice;9432\n",
      "\n",
      "True\n"
     ]
    }
   ],
   "source": [
    "print(sample_data)\n",
    "print(sample_file.closed)"
   ]
  },
  {
   "cell_type": "code",
   "execution_count": 19,
   "id": "4d6c3ee4",
   "metadata": {},
   "outputs": [],
   "source": [
    "# with open(\"sample.txt\", mode=\"w\") as sample_file:\n",
    "#     data = sample_file.read()"
   ]
  },
  {
   "cell_type": "code",
   "execution_count": 20,
   "id": "decce957",
   "metadata": {},
   "outputs": [],
   "source": [
    "with open(\"sample.txt\", mode=\"a\") as sample_file:\n",
    "    sample_file.write(\"Eric;7639\")"
   ]
  },
  {
   "cell_type": "code",
   "execution_count": 24,
   "id": "251c0703",
   "metadata": {
    "scrolled": true
   },
   "outputs": [
    {
     "name": "stdout",
     "output_type": "stream",
     "text": [
      "Name|Phone\n",
      "John;1234\n",
      "Bob;5678\n",
      "Alice;9432\n",
      "Eric;7639\n"
     ]
    }
   ],
   "source": [
    "with open(\"sample.txt\", mode=\"r\") as sample_file:\n",
    "    print(sample_file.read())"
   ]
  }
 ],
 "metadata": {
  "kernelspec": {
   "display_name": "Python 3 (ipykernel)",
   "language": "python",
   "name": "python3"
  },
  "language_info": {
   "codemirror_mode": {
    "name": "ipython",
    "version": 3
   },
   "file_extension": ".py",
   "mimetype": "text/x-python",
   "name": "python",
   "nbconvert_exporter": "python",
   "pygments_lexer": "ipython3",
   "version": "3.7.3"
  }
 },
 "nbformat": 4,
 "nbformat_minor": 5
}
