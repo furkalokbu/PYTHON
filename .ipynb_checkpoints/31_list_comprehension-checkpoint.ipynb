{
 "cells": [
  {
   "cell_type": "code",
   "execution_count": 1,
   "id": "3c34446f",
   "metadata": {},
   "outputs": [
    {
     "data": {
      "text/plain": [
       "['h', 'e', 'l', 'l', 'o', ',', ' ', 'w', 'o', 'r', 'l', 'd']"
      ]
     },
     "execution_count": 1,
     "metadata": {},
     "output_type": "execute_result"
    }
   ],
   "source": [
    "greeting = 'hello, world'\n",
    "chars = []\n",
    "for l in greeting:\n",
    "    chars.append(l)\n",
    "chars"
   ]
  },
  {
   "cell_type": "code",
   "execution_count": 2,
   "id": "6342d969",
   "metadata": {},
   "outputs": [
    {
     "data": {
      "text/plain": [
       "['h', 'e', 'l', 'l', 'o', ',', ' ', 'w', 'o', 'r', 'l', 'd']"
      ]
     },
     "execution_count": 2,
     "metadata": {},
     "output_type": "execute_result"
    }
   ],
   "source": [
    "chars = [i for i in greeting]\n",
    "chars"
   ]
  },
  {
   "cell_type": "code",
   "execution_count": 3,
   "id": "c5ea9c86",
   "metadata": {},
   "outputs": [
    {
     "data": {
      "text/plain": [
       "[0, 1, 4, 9, 16, 25, 36, 49, 64, 81, 100]"
      ]
     },
     "execution_count": 3,
     "metadata": {},
     "output_type": "execute_result"
    }
   ],
   "source": [
    "numbers = [n*n for n in range(0,11)]\n",
    "numbers"
   ]
  },
  {
   "cell_type": "code",
   "execution_count": 4,
   "id": "7a937ff1",
   "metadata": {},
   "outputs": [
    {
     "data": {
      "text/plain": [
       "[1, 9, 25, 49, 81]"
      ]
     },
     "execution_count": 4,
     "metadata": {},
     "output_type": "execute_result"
    }
   ],
   "source": [
    "numbers = [n*n for n in range(0,11) if n%2!=0]\n",
    "numbers"
   ]
  },
  {
   "cell_type": "code",
   "execution_count": 5,
   "id": "fb127233",
   "metadata": {},
   "outputs": [
    {
     "data": {
      "text/plain": [
       "[4.72, 3.94, 21.26, 48.82, 25.2]"
      ]
     },
     "execution_count": 5,
     "metadata": {},
     "output_type": "execute_result"
    }
   ],
   "source": [
    "len_in_centimiters = [12,10,54,124,64]\n",
    "len_in_inches = [round(cm/2.54, 2) for cm in len_in_centimiters]\n",
    "len_in_inches"
   ]
  },
  {
   "cell_type": "code",
   "execution_count": 6,
   "id": "ad0152a1",
   "metadata": {},
   "outputs": [
    {
     "data": {
      "text/plain": [
       "['MM', 'GM', 'MM', 'GM', 'MM', 'GM']"
      ]
     },
     "execution_count": 6,
     "metadata": {},
     "output_type": "execute_result"
    }
   ],
   "source": [
    "raitings = [2485, 2580, 2480, 2600, 2482, 2520]\n",
    "titles = ['GM' if x>=2500 else 'MM' for x in raitings]\n",
    "titles"
   ]
  },
  {
   "cell_type": "code",
   "execution_count": 7,
   "id": "241258b8",
   "metadata": {},
   "outputs": [
    {
     "data": {
      "text/plain": [
       "[(2, -2), (-5, 5), (6, -6), (-2, 2)]"
      ]
     },
     "execution_count": 7,
     "metadata": {},
     "output_type": "execute_result"
    }
   ],
   "source": [
    "list_1 = [2,4,-5,6,8,-2]\n",
    "list_2 = [2,-6,8,3,5,-2]\n",
    "\n",
    "pairs = []\n",
    "for x in list_1:\n",
    "    for y in list_2:\n",
    "        current_sum = x + y\n",
    "        if current_sum == 0:\n",
    "            pairs.append((x,y))\n",
    "pairs"
   ]
  },
  {
   "cell_type": "code",
   "execution_count": 9,
   "id": "22f7b5af",
   "metadata": {},
   "outputs": [
    {
     "data": {
      "text/plain": [
       "[(2, -2), (-5, 5), (6, -6), (-2, 2)]"
      ]
     },
     "execution_count": 9,
     "metadata": {},
     "output_type": "execute_result"
    }
   ],
   "source": [
    "pairs = [(x, y) for x in list_1 for y in list_2 if x+y==0]\n",
    "pairs"
   ]
  }
 ],
 "metadata": {
  "kernelspec": {
   "display_name": "Python 3 (ipykernel)",
   "language": "python",
   "name": "python3"
  },
  "language_info": {
   "codemirror_mode": {
    "name": "ipython",
    "version": 3
   },
   "file_extension": ".py",
   "mimetype": "text/x-python",
   "name": "python",
   "nbconvert_exporter": "python",
   "pygments_lexer": "ipython3",
   "version": "3.7.3"
  }
 },
 "nbformat": 4,
 "nbformat_minor": 5
}
